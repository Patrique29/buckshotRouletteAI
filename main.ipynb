{
 "cells": [
  {
   "cell_type": "markdown",
   "metadata": {},
   "source": [
    "#Buckshot roulette AI"
   ]
  },
  {
   "cell_type": "code",
   "execution_count": 41,
   "metadata": {},
   "outputs": [],
   "source": [
    "#global variables\n",
    "itemDealer = [\" \"]*8\n",
    "liveDealer = 2\n",
    "isCuffedDealer = False\n",
    "\n",
    "shells = []\n",
    "\n",
    "itemPlayer = [\" \"]*8\n",
    "livePlayer = 2\n",
    "isCuffedPlayer = False"
   ]
  },
  {
   "cell_type": "code",
   "execution_count": 44,
   "metadata": {},
   "outputs": [],
   "source": [
    "def showTable():\n",
    "    print(\"-----------------------\")\n",
    "    print(\" \"+str(itemDealer[0])+\" | \"+str(itemDealer[1])+\" \\t\\t \"+str(itemDealer[4])+\" | \"+str(itemDealer[5]))\n",
    "    print(\" \"+str(itemDealer[2])+\" | \"+str(itemDealer[3])+\" \\t\\t \"+str(itemDealer[6])+\" | \"+str(itemDealer[7]))\n",
    "    print(\"-----------------------\")\n",
    "    print()\n",
    "    print(\"shells (r2l) = \"+ str(shells))\n",
    "    print()\n",
    "    print(\"-----------------------\")\n",
    "    print(\" \"+str(itemPlayer[0])+\" | \"+str(itemPlayer[1])+\" \\t\\t \"+str(itemPlayer[4])+\" | \"+str(itemPlayer[5]))\n",
    "    print(\" \"+str(itemPlayer[2])+\" | \"+str(itemPlayer[3])+\" \\t\\t \"+str(itemPlayer[6])+\" | \"+str(itemDealer[7]))\n",
    "    print(\"-----------------------\")\n"
   ]
  },
  {
   "cell_type": "code",
   "execution_count": 45,
   "metadata": {},
   "outputs": [
    {
     "name": "stdout",
     "output_type": "stream",
     "text": [
      "-----------------------\n",
      "   |   \t\t   |  \n",
      "   |   \t\t   |  \n",
      "-----------------------\n",
      "\n",
      "shells (r2l) = []\n",
      "\n",
      "-----------------------\n",
      "   |   \t\t   |  \n",
      "   |   \t\t   |  \n",
      "-----------------------\n"
     ]
    }
   ],
   "source": [
    "def turn():\n",
    "    showTable()\n",
    "turn()"
   ]
  },
  {
   "cell_type": "code",
   "execution_count": null,
   "metadata": {},
   "outputs": [],
   "source": [
    "def dealerRandom():\n",
    "    "
   ]
  }
 ],
 "metadata": {
  "kernelspec": {
   "display_name": "Python 3",
   "language": "python",
   "name": "python3"
  },
  "language_info": {
   "codemirror_mode": {
    "name": "ipython",
    "version": 3
   },
   "file_extension": ".py",
   "mimetype": "text/x-python",
   "name": "python",
   "nbconvert_exporter": "python",
   "pygments_lexer": "ipython3",
   "version": "3.10.11"
  }
 },
 "nbformat": 4,
 "nbformat_minor": 2
}

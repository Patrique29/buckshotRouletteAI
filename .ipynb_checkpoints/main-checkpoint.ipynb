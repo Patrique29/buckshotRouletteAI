{
 "cells": [
  {
   "cell_type": "markdown",
   "metadata": {},
   "source": [
    "#Buckshot roulette AI"
   ]
  },
  {
   "cell_type": "code",
   "execution_count": 13,
   "metadata": {},
   "outputs": [],
   "source": [
    "#global variables\n",
    "itemDealer = [\" \"]*8\n",
    "liveDealer = 2\n",
    "#if cuffed = 0 then the hand cuffed are removed\n",
    "cuffedCounterDealer = 0\n",
    "#-1 unknow\n",
    "# 0 blank\n",
    "# 1 live\n",
    "knowTheBulletDealer = -1 \n",
    "\n",
    "TurnPlayer = True\n",
    "knownLiveShell = 0\n",
    "knownBlankShell = 0\n",
    "shells = []\n",
    "isCut = False\n",
    "\n",
    "itemPlayer = [\" \"]*8\n",
    "livePlayer = 2\n",
    "cuffedCounterPlayer = 0\n",
    "knowTheBulletPlayer = -1"
   ]
  },
  {
   "cell_type": "code",
   "execution_count": 14,
   "metadata": {},
   "outputs": [],
   "source": [
    "def showTable():\n",
    "    print(\"live dealer :\", liveDealer)\n",
    "    print(\"-----------------------\")\n",
    "    print(\" \"+str(itemDealer[0])+\" | \"+str(itemDealer[1])+\" \\t\\t \"+str(itemDealer[4])+\" | \"+str(itemDealer[5]))\n",
    "    print(\" \"+str(itemDealer[2])+\" | \"+str(itemDealer[3])+\" \\t\\t \"+str(itemDealer[6])+\" | \"+str(itemDealer[7]))\n",
    "    print(\"-----------------------\")\n",
    "    print(\"next bullet =\"+str(knowTheBulletDealer))\n",
    "    print()\n",
    "    print(\"known Live Shell = \"+ str(knownLiveShell))\n",
    "    print(\"(unknown)shells = \"+ str(shells))\n",
    "    print(\"known Blank Shell = \"+ str(knownBlankShell))\n",
    "    print()\n",
    "    print(\"next bullet =\"+str(knowTheBulletPlayer))\n",
    "    print(\"-----------------------\")\n",
    "    print(\" \"+str(itemPlayer[0])+\" | \"+str(itemPlayer[1])+\" \\t\\t \"+str(itemPlayer[4])+\" | \"+str(itemPlayer[5]))\n",
    "    print(\" \"+str(itemPlayer[2])+\" | \"+str(itemPlayer[3])+\" \\t\\t \"+str(itemPlayer[6])+\" | \"+str(itemDealer[7]))\n",
    "    print(\"-----------------------\")\n",
    "    print(\"live player :\", livePlayer)"
   ]
  },
  {
   "cell_type": "markdown",
   "metadata": {},
   "source": [
    "##Items"
   ]
  },
  {
   "cell_type": "code",
   "execution_count": 15,
   "metadata": {},
   "outputs": [],
   "source": [
    "def useBeer():\n",
    "    #blank shell\n",
    "    if(shells[-1] == 0):\n",
    "        knownBlankShell-= 1\n",
    "    #live shell\n",
    "    if (shells[-1] == 1):\n",
    "        knownLiveShell -= 1\n",
    "    del shells[-1]\n",
    "\n",
    "def useMGlass():\n",
    "    if(TurnPlayer):\n",
    "        #blank shell\n",
    "        if(shells[-1] == 0):\n",
    "            knowTheBulletPlayer = 0\n",
    "        #live shell\n",
    "        else:\n",
    "            knowTheBulletPlayer = 1\n",
    "    else:\n",
    "        #blank shell\n",
    "        if(shells[-1] == 0):\n",
    "            knowTheBulletDealer = 0\n",
    "        #live shell\n",
    "        else:\n",
    "            knowTheBulletDealer = 1\n",
    "\n",
    "def useKnife():\n",
    "    isCut = True\n",
    "\n",
    "def useHCuff():\n",
    "    if(TurnPlayer):\n",
    "        cuffedCounterDealer = 1\n",
    "    else:\n",
    "        cuffedCounterPlayer = 1\n",
    "\n",
    "def useCig():\n",
    "    if(TurnPlayer):\n",
    "        livePlayer += 1\n",
    "    else:\n",
    "        liveDealer += 1\n",
    "\n"
   ]
  },
  {
   "cell_type": "code",
   "execution_count": 16,
   "metadata": {},
   "outputs": [
    {
     "name": "stdout",
     "output_type": "stream",
     "text": [
      "live dealer : 2\n",
      "-----------------------\n",
      "   |   \t\t   |  \n",
      "   |   \t\t   |  \n",
      "-----------------------\n",
      "next bullet =-1\n",
      "\n",
      "known Live Shell = 0\n",
      "(unknown)shells = []\n",
      "known Blank Shell = 0\n",
      "\n",
      "next bullet =-1\n",
      "-----------------------\n",
      "   |   \t\t   |  \n",
      "   |   \t\t   |  \n",
      "-----------------------\n",
      "live player : 2\n"
     ]
    }
   ],
   "source": [
    "def turn():\n",
    "    showTable()\n",
    "turn()"
   ]
  },
  {
   "cell_type": "code",
   "execution_count": null,
   "metadata": {},
   "outputs": [],
   "source": []
  },
  {
   "cell_type": "code",
   "execution_count": 8,
   "metadata": {},
   "outputs": [
    {
     "ename": "SyntaxError",
     "evalue": "incomplete input (2887071698.py, line 2)",
     "output_type": "error",
     "traceback": [
      "\u001b[0;36m  File \u001b[0;32m\"/tmp/ipykernel_4741/2887071698.py\"\u001b[0;36m, line \u001b[0;32m2\u001b[0m\n\u001b[0;31m    \u001b[0m\n\u001b[0m    ^\u001b[0m\n\u001b[0;31mSyntaxError\u001b[0m\u001b[0;31m:\u001b[0m incomplete input\n"
     ]
    }
   ],
   "source": [
    "def dealerRandom():\n",
    "    "
   ]
  },
  {
   "cell_type": "code",
   "execution_count": null,
   "metadata": {},
   "outputs": [],
   "source": []
  }
 ],
 "metadata": {
  "kernelspec": {
   "display_name": "Python 3 (ipykernel)",
   "language": "python",
   "name": "python3"
  },
  "language_info": {
   "codemirror_mode": {
    "name": "ipython",
    "version": 3
   },
   "file_extension": ".py",
   "mimetype": "text/x-python",
   "name": "python",
   "nbconvert_exporter": "python",
   "pygments_lexer": "ipython3",
   "version": "3.10.12"
  }
 },
 "nbformat": 4,
 "nbformat_minor": 2
}
